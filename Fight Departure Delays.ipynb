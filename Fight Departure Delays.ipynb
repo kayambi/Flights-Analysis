{
 "cells": [
  {
   "cell_type": "markdown",
   "metadata": {},
   "source": [
    "# Flights Departure Delayed "
   ]
  },
  {
   "cell_type": "code",
   "execution_count": 12,
   "metadata": {},
   "outputs": [
    {
     "name": "stdout",
     "output_type": "stream",
     "text": [
      "Requirement already up-to-date: ggplot in /anaconda3/lib/python3.7/site-packages (0.11.5)\n",
      "Requirement already satisfied, skipping upgrade: numpy in /anaconda3/lib/python3.7/site-packages (from ggplot) (1.15.1)\n",
      "Requirement already satisfied, skipping upgrade: six in /anaconda3/lib/python3.7/site-packages (from ggplot) (1.11.0)\n",
      "Requirement already satisfied, skipping upgrade: matplotlib in /anaconda3/lib/python3.7/site-packages (from ggplot) (2.2.3)\n",
      "Requirement already satisfied, skipping upgrade: brewer2mpl in /anaconda3/lib/python3.7/site-packages (from ggplot) (1.4.1)\n",
      "Requirement already satisfied, skipping upgrade: patsy>=0.4 in /anaconda3/lib/python3.7/site-packages (from ggplot) (0.5.0)\n",
      "Requirement already satisfied, skipping upgrade: scipy in /anaconda3/lib/python3.7/site-packages (from ggplot) (1.1.0)\n",
      "Requirement already satisfied, skipping upgrade: statsmodels in /anaconda3/lib/python3.7/site-packages (from ggplot) (0.9.0)\n",
      "Requirement already satisfied, skipping upgrade: pandas in /anaconda3/lib/python3.7/site-packages (from ggplot) (0.25.3)\n",
      "Requirement already satisfied, skipping upgrade: cycler in /anaconda3/lib/python3.7/site-packages (from ggplot) (0.10.0)\n",
      "Requirement already satisfied, skipping upgrade: pyparsing!=2.0.4,!=2.1.2,!=2.1.6,>=2.0.1 in /anaconda3/lib/python3.7/site-packages (from matplotlib->ggplot) (2.2.0)\n",
      "Requirement already satisfied, skipping upgrade: python-dateutil>=2.1 in /anaconda3/lib/python3.7/site-packages (from matplotlib->ggplot) (2.7.3)\n",
      "Requirement already satisfied, skipping upgrade: pytz in /anaconda3/lib/python3.7/site-packages (from matplotlib->ggplot) (2018.5)\n",
      "Requirement already satisfied, skipping upgrade: kiwisolver>=1.0.1 in /anaconda3/lib/python3.7/site-packages (from matplotlib->ggplot) (1.0.1)\n",
      "Requirement already satisfied, skipping upgrade: setuptools in /anaconda3/lib/python3.7/site-packages (from kiwisolver>=1.0.1->matplotlib->ggplot) (40.2.0)\n",
      "\u001b[33mYou are using pip version 19.0.3, however version 20.1b1 is available.\n",
      "You should consider upgrading via the 'pip install --upgrade pip' command.\u001b[0m\n",
      "Requirement already satisfied: tslib in /anaconda3/lib/python3.7/site-packages (1.6)\n",
      "\u001b[33mYou are using pip version 19.0.3, however version 20.1b1 is available.\n",
      "You should consider upgrading via the 'pip install --upgrade pip' command.\u001b[0m\n"
     ]
    }
   ],
   "source": [
    "import pandas as pd\n",
    "import numpy as np\n",
    "import datetime as dt\n",
    "import matplotlib.pyplot as plt\n",
    "# !pip install ggplot\n",
    "!pip install -U ggplot\n",
    "!pip install tslib\n",
    "# import ggplot\n",
    "# import json, zipfile, io , requests, ggplot"
   ]
  },
  {
   "cell_type": "code",
   "execution_count": 2,
   "metadata": {},
   "outputs": [],
   "source": [
    "import warnings\n",
    "warnings.filterwarnings('ignore')\n",
    "\n",
    "%matplotlib inline\n",
    "\n"
   ]
  },
  {
   "cell_type": "code",
   "execution_count": null,
   "metadata": {},
   "outputs": [],
   "source": []
  }
 ],
 "metadata": {
  "kernelspec": {
   "display_name": "Python 3",
   "language": "python",
   "name": "python3"
  },
  "language_info": {
   "codemirror_mode": {
    "name": "ipython",
    "version": 3
   },
   "file_extension": ".py",
   "mimetype": "text/x-python",
   "name": "python",
   "nbconvert_exporter": "python",
   "pygments_lexer": "ipython3",
   "version": "3.7.0"
  }
 },
 "nbformat": 4,
 "nbformat_minor": 2
}
